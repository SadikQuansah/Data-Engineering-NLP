{
 "cells": [
  {
   "cell_type": "markdown",
   "metadata": {},
   "source": [
    "# **WARNING** \n",
    "\n",
    "### We are dealing with raw web data. Some of the information that is retrieved might contain certain explicit content (words, phrases, or references)"
   ]
  },
  {
   "cell_type": "markdown",
   "metadata": {},
   "source": [
    "# Data Engineering - NLP"
   ]
  },
  {
   "cell_type": "markdown",
   "metadata": {},
   "source": [
    "## Exercise 1: NLP Tweets\n",
    "\n",
    "For this exercise, use TfidfVectorizer and any TWO classification models you would like to correctly identify the sentiments of each review, in the Restaurant_Reviews.tsv file, as (Positive, or Negative). \n",
    "\n",
    "### Remember:\n",
    "    1. Split your data into Train and Test sets\n",
    "    2. Evaluate your model using the metrics of your choice (include a brief interpretation)\n",
    "    3. Explain which model performed better and why (comparison of results)"
   ]
  },
  {
   "cell_type": "code",
   "execution_count": 9,
   "metadata": {},
   "outputs": [],
   "source": [
    "#Exercise 1\n"
   ]
  },
  {
   "cell_type": "markdown",
   "metadata": {
    "id": "tyh2HYbxr6Fm"
   },
   "source": [
    "\n",
    "## Exercise 2: App Review NLP work (Similar to Web Data workshop)\n",
    "\n",
    "The Apple app store has a `GET` API to get reviews on apps. The URL is:\n",
    "\n",
    "```\n",
    "https://itunes.apple.com/{COUNTRY_CODE}/rss/customerreviews/id={APP_ID_HERE}/page={PAGE_NUMBER}/sortby=mostrecent/json\n",
    "```\n",
    "\n",
    "Note that you need to provide:\n",
    "\n",
    "- The country codes (`'us'`, `'gb'`, `'ca'`, `'au'`) - use all four\n",
    "- The app ID. This can be found in the web page for the app right after `id`.\n",
    "    - You will need to find the IDs for these apps - Candy Crush, Facebook, Twitter & Tinder\n",
    "- The \"Page Number\". The request responds with multiple pages of data, but sends them one at a time. So you can cycle through the data pages for any app on any country. (Be careful, there are limits to the number of pages you can access)\n",
    "\n",
    "For example, Candy Crush's US webpage is `https://apps.apple.com/us/app/candy-crush-saga/id553834731`, which means that the ID is `553834731`.\n",
    "\n",
    "\n",
    "Do the following:\n",
    "\n",
    "1. Using any method you want (pre-trained models, dimensionality reduction, feature engineering, etc.) make the best **regression** model you can to predict the 5 star rating. Rate the accuracy in regression terms (mean squared error) and in classification terms (accuracy score, etc.)\n",
    "1. Do the same as 1.1, but use a classification model. Are classification models better or worse to predict a 5-point rating scale? Explain in a few paragraphs and justify with metrics.\n",
    "\n",
    "ps. Feel free to do as much data engineering to boost your model. (ie binary vs multinomial)\n"
   ]
  },
  {
   "cell_type": "code",
   "execution_count": null,
   "metadata": {
    "colab": {
     "base_uri": "https://localhost:8080/",
     "height": 419
    },
    "executionInfo": {
     "elapsed": 17760,
     "status": "ok",
     "timestamp": 1614650956868,
     "user": {
      "displayName": "jasleen Kaur",
      "photoUrl": "https://lh3.googleusercontent.com/a-/AOh14GitSy-VVABi645nqScpV23oW5NBCAa7lTQqdIKl=s64",
      "userId": "12125715966921775581"
     },
     "user_tz": 300
    },
    "id": "2MormF0Pr6Fu",
    "outputId": "f137b212-85e7-41b9-f5e6-6cbb7c35b29c"
   },
   "outputs": [],
   "source": [
    "# exercise 2\n"
   ]
  }
 ],
 "metadata": {
  "anaconda-cloud": {},
  "colab": {
   "collapsed_sections": [],
   "name": "workshop.ipynb",
   "provenance": []
  },
  "kernelspec": {
   "display_name": "Python 3 (ipykernel)",
   "language": "python",
   "name": "python3"
  },
  "language_info": {
   "codemirror_mode": {
    "name": "ipython",
    "version": 3
   },
   "file_extension": ".py",
   "mimetype": "text/x-python",
   "name": "python",
   "nbconvert_exporter": "python",
   "pygments_lexer": "ipython3",
   "version": "3.9.7"
  }
 },
 "nbformat": 4,
 "nbformat_minor": 4
}
